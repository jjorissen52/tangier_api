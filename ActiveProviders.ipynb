{
 "cells": [
  {
   "cell_type": "code",
   "execution_count": 1,
   "metadata": {},
   "outputs": [
    {
     "name": "stderr",
     "output_type": "stream",
     "text": [
      "WARNING:root:The following exception was ignored in try_compare: 'NoneType' object has no attribute '__contains__'\n",
      "WARNING:root:The following exception was ignored in try_compare: 'NoneType' object has no attribute '__contains__'\n",
      "WARNING:root:The following exception was ignored in try_compare: 'NoneType' object has no attribute '__contains__'\n",
      "WARNING:root:The following exception was ignored in try_compare: 'NoneType' object has no attribute '__contains__'\n",
      "WARNING:root:The following exception was ignored in try_compare: 'NoneType' object has no attribute '__contains__'\n",
      "WARNING:root:The following exception was ignored in try_compare: 'NoneType' object has no attribute '__contains__'\n",
      "WARNING:root:The following exception was ignored in try_compare: 'NoneType' object has no attribute '__contains__'\n"
     ]
    },
    {
     "name": "stdout",
     "output_type": "stream",
     "text": [
      "('2018-05-09', '2018-05-25')\n",
      "Removed 320 open shifts.\n",
      "Removed 14 duplicates.\n",
      "Removed 135 empties.\n"
     ]
    }
   ],
   "source": [
    "import sys, pandas\n",
    "from tangier_api import ProviderConnection, ScheduleManipulation, LocationConnection, ScheduleWithData\n",
    "\n",
    "import datetime\n",
    "from dateutil.relativedelta import relativedelta\n",
    "\n",
    "def next_thirty_days(date_format):\n",
    "    today = datetime.datetime.now()\n",
    "    thirty_days_from_now = today + relativedelta(days=30)\n",
    "    return today.strftime(date_format), thirty_days_from_now.strftime(date_format)\n",
    "\n",
    "def next_two_weeks(date_format):\n",
    "    two_days_ago = datetime.datetime.now() + relativedelta(days=-2)\n",
    "    two_weeks_from_now = two_days_ago + relativedelta(days=16)\n",
    "    return two_days_ago.strftime(date_format), two_weeks_from_now.strftime(date_format)\n",
    "\n",
    "def last_sixty_days(date_format):\n",
    "    today = datetime.datetime.now()\n",
    "    sixty_days_ago = today - relativedelta(days=60)\n",
    "    return sixty_days_ago.strftime(date_format), today.strftime(date_format)\n",
    "\n",
    "\n",
    "pconn, sconn, lconn = ProviderConnection(), ScheduleManipulation(), LocationConnection()\n",
    "\n",
    "s = ScheduleWithData(sconn, pconn, lconn)\n",
    "\n",
    "s.save_schedule_from_range(*next_two_weeks(sconn.date_format))\n",
    "\n",
    "#s.sconn and sconn refer to the same object in memory\n",
    "sconn.remove_schedule_open()\n",
    "sconn.remove_schedule_duplicates()\n",
    "sconn.remove_schedule_empties()"
   ]
  },
  {
   "cell_type": "code",
   "execution_count": 2,
   "metadata": {},
   "outputs": [
    {
     "data": {
      "text/plain": [
       "Index(['actualendtime', 'actualendtimeentereddate', 'actualstarttime',\n",
       "       'actualstarttimeentereddate', 'actualtime', 'actualtimeenteredby',\n",
       "       'durationhours', 'durationminutes', 'originalendtime',\n",
       "       'originalstarttime', 'payrollshiftcode', 'plannedendtime',\n",
       "       'plannedstarttime', 'plannedtimechange', 'providername',\n",
       "       'providerstafftypecode', 'reporteddurationoverridden',\n",
       "       'reportedminutes', 'resourcetype', 'shift_end_date', 'shift_start_date',\n",
       "       'shiftname', 'shiftstafftypecode', 'site_id', 'processed', 'dept_id',\n",
       "       'site_name', 'site_short_name', 'street', 'city', 'state', 'zip',\n",
       "       'emp_id', 'provider_primary_key', 'first_name', 'middle_name',\n",
       "       'last_name', 'suffix', 'home_phone', 'fax_phone', 'cell_phone',\n",
       "       'beeper_phone', 'beeper_pin', 'email_address', 'tangierweb_userid',\n",
       "       'staff_type_code', 'practitioner_types'],\n",
       "      dtype='object')"
      ]
     },
     "execution_count": 2,
     "metadata": {},
     "output_type": "execute_result"
    }
   ],
   "source": [
    "sconn.saved_schedule.columns"
   ]
  },
  {
   "cell_type": "code",
   "execution_count": 3,
   "metadata": {},
   "outputs": [],
   "source": [
    "providers = sconn.saved_schedule[['provider_primary_key', 'emp_id', 'first_name',\n",
    "                                 'last_name', 'cell_phone', 'email_address',\n",
    "                                 'practitioner_types']].drop_duplicates(subset=['provider_primary_key'])\n",
    "providers = providers.sort_values(['last_name', 'first_name']).reset_index().drop(columns=['index'])"
   ]
  },
  {
   "cell_type": "code",
   "execution_count": 8,
   "metadata": {},
   "outputs": [
    {
     "data": {
      "text/plain": [
       "3375    takoma regional hospital ed-app\n",
       "Name: site_name, dtype: object"
      ]
     },
     "execution_count": 8,
     "metadata": {},
     "output_type": "execute_result"
    }
   ],
   "source": [
    "sconn.saved_schedule[sconn.saved_schedule['last_name']=='Barlow'].site_name"
   ]
  },
  {
   "cell_type": "code",
   "execution_count": null,
   "metadata": {},
   "outputs": [],
   "source": []
  }
 ],
 "metadata": {
  "kernelspec": {
   "display_name": "Python (octopus)",
   "language": "python",
   "name": "venv"
  },
  "language_info": {
   "codemirror_mode": {
    "name": "ipython",
    "version": 3
   },
   "file_extension": ".py",
   "mimetype": "text/x-python",
   "name": "python",
   "nbconvert_exporter": "python",
   "pygments_lexer": "ipython3",
   "version": "3.6.3"
  }
 },
 "nbformat": 4,
 "nbformat_minor": 2
}
